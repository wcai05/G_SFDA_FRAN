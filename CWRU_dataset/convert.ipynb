{
 "cells": [
  {
   "cell_type": "code",
   "execution_count": 1,
   "metadata": {},
   "outputs": [],
   "source": [
    "import subprocess\n",
    "import os\n",
    "import cv2 "
   ]
  },
  {
   "cell_type": "code",
   "execution_count": 1,
   "metadata": {},
   "outputs": [
    {
     "name": "stderr",
     "output_type": "stream",
     "text": [
      "c:\\Users\\William\\anaconda3\\envs\\cpsc330\\lib\\site-packages\\tqdm\\auto.py:22: TqdmWarning: IProgress not found. Please update jupyter and ipywidgets. See https://ipywidgets.readthedocs.io/en/stable/user_install.html\n",
      "  from .autonotebook import tqdm as notebook_tqdm\n"
     ]
    }
   ],
   "source": [
    "import numpy as np\n",
    "import torch"
   ]
  },
  {
   "cell_type": "code",
   "execution_count": 2,
   "metadata": {},
   "outputs": [],
   "source": [
    "import pandas as pd"
   ]
  },
  {
   "cell_type": "code",
   "execution_count": 3,
   "metadata": {},
   "outputs": [],
   "source": [
    "import subprocess\n",
    "import os\n",
    "import cv2  # pip install cv2\n",
    "\n",
    "def get_images(path_to_7z_file):\n",
    "    # in windows would be something like C:\\Program Files\\7-Zip\\7z.exe\n",
    "    # for linux /usr/local/bin/7z. check it using \"which\" command\n",
    "    exe_7z = r'C:/Users/William/Documents/GitHub/FRAN/CWRU_dataset/CWRU_DE.7z' \n",
    "    # x is for extracting, you can use other 7zip flags, check \"7z --help\" command\n",
    "    subprocess_args = ('%s x %s' % (exe_7z, s7z_file)).split(' ')\n",
    "    process_7z = subprocess.Popen(subprocess_args)\n",
    "    ret_code = process_7z.wait()\n",
    "    if ret_code != 0:\n",
    "        # maybe the system could not find the 7z executable\n",
    "        # or the 7z file could not be opened\n",
    "        print('error in 7z command')  \n",
    "    else:\n",
    "        img_files = [\n",
    "            f for f in os.listdir('.')\n",
    "            if (os.path.isfile(f) and \n",
    "                f.split('.')[1].lower() in ['png', 'jpg']) # other extensions\n",
    "        ]\n",
    "        # img_files holds the list of images within the 7z archive\n",
    "        for img_file in img_files:\n",
    "            img = cv2.imread(img_file) \n",
    "            print(img)\n",
    "            # at this point, img is a numpy.array"
   ]
  },
  {
   "cell_type": "code",
   "execution_count": null,
   "metadata": {},
   "outputs": [],
   "source": []
  }
 ],
 "metadata": {
  "kernelspec": {
   "display_name": "Python 3.9.13 ('cpsc330')",
   "language": "python",
   "name": "python3"
  },
  "language_info": {
   "codemirror_mode": {
    "name": "ipython",
    "version": 3
   },
   "file_extension": ".py",
   "mimetype": "text/x-python",
   "name": "python",
   "nbconvert_exporter": "python",
   "pygments_lexer": "ipython3",
   "version": "3.9.15 | packaged by conda-forge | (main, Nov 22 2022, 08:41:22) [MSC v.1929 64 bit (AMD64)]"
  },
  "orig_nbformat": 4,
  "vscode": {
   "interpreter": {
    "hash": "f11c2acd54cf9e127879d30e40d9986ab7c7f9c8c340a601ac166237740cd5b0"
   }
  }
 },
 "nbformat": 4,
 "nbformat_minor": 2
}
